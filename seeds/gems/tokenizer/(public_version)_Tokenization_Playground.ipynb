{
  "nbformat": 4,
  "nbformat_minor": 0,
  "metadata": {
    "colab": {
      "provenance": [],
      "include_colab_link": true
    },
    "kernelspec": {
      "name": "python3",
      "display_name": "Python 3"
    },
    "language_info": {
      "name": "python"
    }
  },
  "cells": [
    {
      "cell_type": "markdown",
      "metadata": {
        "id": "view-in-github",
        "colab_type": "text"
      },
      "source": [
        "<a href=\"https://colab.research.google.com/github/google/labs-prototypes/blob/main/seeds/gems/tokenizer/(public_version)_Tokenization_Playground.ipynb\" target=\"_parent\"><img src=\"https://colab.research.google.com/assets/colab-badge.svg\" alt=\"Open In Colab\"/></a>"
      ]
    },
    {
      "cell_type": "code",
      "execution_count": null,
      "metadata": {
        "id": "gVRh7yPfTwq8"
      },
      "outputs": [],
      "source": [
        "!pip install seqio\n",
        "import seqio\n",
        "import tensorflow as tf\n"
      ]
    },
    {
      "cell_type": "code",
      "source": [
        "vocab = seqio.SentencePieceVocabulary('gs://t5-data/vocabs/cc_all.32000.100extra/sentencepiece.model')"
      ],
      "metadata": {
        "id": "hwtDHDXOeA6N"
      },
      "execution_count": null,
      "outputs": []
    },
    {
      "cell_type": "code",
      "source": [
        "text = 'who is the girl in more than you know'"
      ],
      "metadata": {
        "id": "7ON-VZwUT23x"
      },
      "execution_count": null,
      "outputs": []
    },
    {
      "cell_type": "code",
      "source": [
        "token_ids = vocab.encode_tf(tf.constant(text)).numpy().tolist()"
      ],
      "metadata": {
        "id": "MXRleF52U0ft"
      },
      "execution_count": null,
      "outputs": []
    },
    {
      "cell_type": "code",
      "source": [
        "token_ids"
      ],
      "metadata": {
        "id": "T2XeGLL-WQSV",
        "outputId": "0ce54062-7d46-4bad-bc85-969b8ccd0bd7",
        "colab": {
          "base_uri": "https://localhost:8080/"
        }
      },
      "execution_count": null,
      "outputs": [
        {
          "output_type": "execute_result",
          "data": {
            "text/plain": [
              "[113, 19, 8, 3202, 16, 72, 145, 25, 214]"
            ]
          },
          "metadata": {},
          "execution_count": 32
        }
      ]
    },
    {
      "cell_type": "code",
      "source": [
        "tokens = [vocab.decode([token_id]) for token_id in token_ids]"
      ],
      "metadata": {
        "id": "vyPM4G5-VDXT"
      },
      "execution_count": null,
      "outputs": []
    },
    {
      "cell_type": "code",
      "source": [
        "tokens"
      ],
      "metadata": {
        "id": "-0VzD4TWVtZE",
        "outputId": "18ed889f-35bd-4420-8b5c-cb8fade83fc9",
        "colab": {
          "base_uri": "https://localhost:8080/"
        }
      },
      "execution_count": null,
      "outputs": [
        {
          "output_type": "execute_result",
          "data": {
            "text/plain": [
              "['who', 'is', 'the', 'girl', 'in', 'more', 'than', 'you', 'know']"
            ]
          },
          "metadata": {},
          "execution_count": 34
        }
      ]
    },
    {
      "cell_type": "code",
      "source": [
        "def tokenize(text):\n",
        "  return [vocab.decode([token_id]) for token_id in vocab.encode_tf(tf.constant(text)).numpy().tolist()]"
      ],
      "metadata": {
        "id": "lev6aDp2eIQY"
      },
      "execution_count": null,
      "outputs": []
    },
    {
      "cell_type": "code",
      "source": [
        "tokenize('who is the girl in more than you know')"
      ],
      "metadata": {
        "colab": {
          "base_uri": "https://localhost:8080/"
        },
        "id": "QiTLeq7BpO8x",
        "outputId": "f765e010-ab33-4b54-a987-ab609d878106"
      },
      "execution_count": null,
      "outputs": [
        {
          "output_type": "execute_result",
          "data": {
            "text/plain": [
              "['who', 'is', 'the', 'girl', 'in', 'more', 'than', 'you', 'know']"
            ]
          },
          "metadata": {},
          "execution_count": 46
        }
      ]
    },
    {
      "cell_type": "code",
      "source": [
        "tokenize('who is the girl in more than you know?')"
      ],
      "metadata": {
        "colab": {
          "base_uri": "https://localhost:8080/"
        },
        "outputId": "e02f2a27-8466-4805-de72-f6c8919cf305",
        "id": "Bv8eTMkypXG1"
      },
      "execution_count": null,
      "outputs": [
        {
          "output_type": "execute_result",
          "data": {
            "text/plain": [
              "['who', 'is', 'the', 'girl', 'in', 'more', 'than', 'you', 'know', '?']"
            ]
          },
          "metadata": {},
          "execution_count": 47
        }
      ]
    },
    {
      "cell_type": "code",
      "source": [
        "tokenize('Who is the girl in More Than You Know?')"
      ],
      "metadata": {
        "colab": {
          "base_uri": "https://localhost:8080/"
        },
        "outputId": "41c36782-3ffb-4dd4-e6cc-897527db0042",
        "id": "YIM-dtiEpZeT"
      },
      "execution_count": null,
      "outputs": [
        {
          "output_type": "execute_result",
          "data": {
            "text/plain": [
              "['Who', 'is', 'the', 'girl', 'in', 'More', 'Than', 'You', 'Know', '?']"
            ]
          },
          "metadata": {},
          "execution_count": 49
        }
      ]
    },
    {
      "cell_type": "code",
      "source": [
        "tokenize('Peter')"
      ],
      "metadata": {
        "colab": {
          "base_uri": "https://localhost:8080/"
        },
        "id": "Ijr_Dfuvoc_M",
        "outputId": "fd0e73c8-6b81-4246-8c88-0642dd098648"
      },
      "execution_count": null,
      "outputs": [
        {
          "output_type": "execute_result",
          "data": {
            "text/plain": [
              "['Peter']"
            ]
          },
          "metadata": {},
          "execution_count": 39
        }
      ]
    },
    {
      "cell_type": "code",
      "source": [
        "tokenize('Fatima')"
      ],
      "metadata": {
        "colab": {
          "base_uri": "https://localhost:8080/"
        },
        "id": "wkB7NX9Eoenc",
        "outputId": "85813f05-bdde-42ad-f7a6-96706dbef25f"
      },
      "execution_count": null,
      "outputs": [
        {
          "output_type": "execute_result",
          "data": {
            "text/plain": [
              "['Fa', 'tim', 'a']"
            ]
          },
          "metadata": {},
          "execution_count": 40
        }
      ]
    },
    {
      "cell_type": "code",
      "source": [
        "tokenize('fatima')"
      ],
      "metadata": {
        "colab": {
          "base_uri": "https://localhost:8080/"
        },
        "id": "Myr1fTKppIXY",
        "outputId": "13981877-ac32-40b4-c514-5fc83dff9135"
      },
      "execution_count": null,
      "outputs": [
        {
          "output_type": "execute_result",
          "data": {
            "text/plain": [
              "['fat', 'im', 'a']"
            ]
          },
          "metadata": {},
          "execution_count": 45
        }
      ]
    },
    {
      "cell_type": "code",
      "source": [
        "tokenize('Schodinger')"
      ],
      "metadata": {
        "colab": {
          "base_uri": "https://localhost:8080/"
        },
        "id": "i9kbBhN1omYW",
        "outputId": "0322e39a-712a-480c-ba8a-3bda632fda03"
      },
      "execution_count": null,
      "outputs": [
        {
          "output_type": "execute_result",
          "data": {
            "text/plain": [
              "['Scho', 'd', 'inger']"
            ]
          },
          "metadata": {},
          "execution_count": 41
        }
      ]
    },
    {
      "cell_type": "code",
      "source": [
        "tokenize('Einstein')"
      ],
      "metadata": {
        "colab": {
          "base_uri": "https://localhost:8080/"
        },
        "id": "McdkbUenopiT",
        "outputId": "280b5e4d-eb2b-4a17-c234-3edbce1cbcfc"
      },
      "execution_count": null,
      "outputs": [
        {
          "output_type": "execute_result",
          "data": {
            "text/plain": [
              "['Ein', 'stein']"
            ]
          },
          "metadata": {},
          "execution_count": 42
        }
      ]
    },
    {
      "cell_type": "code",
      "source": [
        "tokenize('education')"
      ],
      "metadata": {
        "colab": {
          "base_uri": "https://localhost:8080/"
        },
        "id": "TsEum2ocovgC",
        "outputId": "a17e13c3-a942-4db5-a161-45fcbbc9c5ac"
      },
      "execution_count": null,
      "outputs": [
        {
          "output_type": "execute_result",
          "data": {
            "text/plain": [
              "['education']"
            ]
          },
          "metadata": {},
          "execution_count": 43
        }
      ]
    },
    {
      "cell_type": "code",
      "source": [
        "tokenize('pneumonoultramicroscopicsilicovolcanoconiosis')"
      ],
      "metadata": {
        "colab": {
          "base_uri": "https://localhost:8080/"
        },
        "id": "dA6SZqh-ozV7",
        "outputId": "7ccb203c-d26e-4276-83c8-c3b85d5959b6"
      },
      "execution_count": null,
      "outputs": [
        {
          "output_type": "execute_result",
          "data": {
            "text/plain": [
              "['pneu',\n",
              " 'mon',\n",
              " 'oul',\n",
              " 'tra',\n",
              " 'mic',\n",
              " 'r',\n",
              " 'oscopic',\n",
              " 'sili',\n",
              " 'co',\n",
              " 'vol',\n",
              " 'can',\n",
              " 'o',\n",
              " 'con',\n",
              " 'i',\n",
              " 'o',\n",
              " 's',\n",
              " 'is']"
            ]
          },
          "metadata": {},
          "execution_count": 44
        }
      ]
    },
    {
      "cell_type": "code",
      "source": [],
      "metadata": {
        "id": "hhHGHgHcr9q0"
      },
      "execution_count": null,
      "outputs": []
    }
  ]
}